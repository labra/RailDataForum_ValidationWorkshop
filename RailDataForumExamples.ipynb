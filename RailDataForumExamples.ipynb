{
  "nbformat": 4,
  "nbformat_minor": 0,
  "metadata": {
    "colab": {
      "provenance": [],
      "toc_visible": true,
      "authorship_tag": "ABX9TyOBc9cWCckCoqSO3147C6mn",
      "include_colab_link": true
    },
    "kernelspec": {
      "name": "python3",
      "display_name": "Python 3"
    },
    "language_info": {
      "name": "python"
    }
  },
  "cells": [
    {
      "cell_type": "markdown",
      "metadata": {
        "id": "view-in-github",
        "colab_type": "text"
      },
      "source": [
        "<a href=\"https://colab.research.google.com/github/labra/RailDataForum_ValidationWorkshop/blob/main/RailDataForumExamples.ipynb\" target=\"_parent\"><img src=\"https://colab.research.google.com/assets/colab-badge.svg\" alt=\"Open In Colab\"/></a>"
      ]
    },
    {
      "cell_type": "markdown",
      "source": [
        "# Rail data forum - Validation workshop examples"
      ],
      "metadata": {
        "id": "JTryadl119UT"
      }
    },
    {
      "cell_type": "markdown",
      "source": [
        "We will use [rdflib](https://rdflib.readthedocs.io/) to run the examples in Python"
      ],
      "metadata": {
        "id": "8-CZ--pzDv50"
      }
    },
    {
      "cell_type": "code",
      "execution_count": 3,
      "metadata": {
        "colab": {
          "base_uri": "https://localhost:8080/"
        },
        "id": "YfOzi36a1rKq",
        "outputId": "a2ebe682-a5b4-4d69-ab19-c0ee7d97ce13"
      },
      "outputs": [
        {
          "output_type": "stream",
          "name": "stdout",
          "text": [
            "Collecting rdflib\n",
            "  Downloading rdflib-7.1.4-py3-none-any.whl.metadata (11 kB)\n",
            "Requirement already satisfied: pyparsing<4,>=2.1.0 in /usr/local/lib/python3.11/dist-packages (from rdflib) (3.2.3)\n",
            "Downloading rdflib-7.1.4-py3-none-any.whl (565 kB)\n",
            "\u001b[?25l   \u001b[90m━━━━━━━━━━━━━━━━━━━━━━━━━━━━━━━━━━━━━━━━\u001b[0m \u001b[32m0.0/565.1 kB\u001b[0m \u001b[31m?\u001b[0m eta \u001b[36m-:--:--\u001b[0m\r\u001b[2K   \u001b[90m━━━━━━━━━━━━━━━━━━━━━━━━━━━━━━━━━━━━━━━━\u001b[0m \u001b[32m565.1/565.1 kB\u001b[0m \u001b[31m27.1 MB/s\u001b[0m eta \u001b[36m0:00:00\u001b[0m\n",
            "\u001b[?25hInstalling collected packages: rdflib\n",
            "Successfully installed rdflib-7.1.4\n"
          ]
        }
      ],
      "source": [
        "!pip install rdflib"
      ]
    },
    {
      "cell_type": "code",
      "source": [
        "from rdflib import Graph, Namespace"
      ],
      "metadata": {
        "id": "j-gfo8OV41Z5"
      },
      "execution_count": 25,
      "outputs": []
    },
    {
      "cell_type": "markdown",
      "source": [
        "Create an example RDF graph"
      ],
      "metadata": {
        "id": "_8qQD6mUD-nu"
      }
    },
    {
      "cell_type": "code",
      "source": [
        "g = Graph()"
      ],
      "metadata": {
        "id": "FWCigL0F45jI"
      },
      "execution_count": 5,
      "outputs": []
    },
    {
      "cell_type": "code",
      "source": [
        "person_ttl_str = \"\"\"\n",
        "prefix : <http://example.org/>\n",
        "prefix rdf: <http://www.w3.org/1999/02/22-rdf-syntax-ns#>\n",
        "prefix xsd: <http://www.w3.org/2001/XMLSchema#>\n",
        "\n",
        ":timbl a :Human ;\n",
        "       :name       \"Tim Berners-Lee\" ;\n",
        "       :birthPlace :london ;\n",
        "       :birthDate  \"1955-06-08\"^^xsd:date ;\n",
        "       :employer   :CERN ;\n",
        "       :knows     :jose .\n",
        "\n",
        ":london a :City, :Metropolis ;\n",
        "        :country :UK .\n",
        "\n",
        ":CERN a :Organization ;\n",
        "      :name \"CERN\"    .\n",
        "\n",
        ":jose :name       \"Jose\" ;\n",
        "      :birthPlace :Oviedo .\n",
        "\n",
        ":Oviedo a :City ;\n",
        "        :country :Spain .\n",
        "\"\"\";"
      ],
      "metadata": {
        "id": "1f6NXNv25ApH"
      },
      "execution_count": 6,
      "outputs": []
    },
    {
      "cell_type": "markdown",
      "source": [
        "Parse and load the example into the RDF graph"
      ],
      "metadata": {
        "id": "9GICW--qEIUl"
      }
    },
    {
      "cell_type": "code",
      "source": [
        "g.parse(data=person_ttl_str, format=\"ttl\")"
      ],
      "metadata": {
        "colab": {
          "base_uri": "https://localhost:8080/"
        },
        "id": "viD9Wrii6Gzm",
        "outputId": "eef3c9eb-27f7-42c8-ad8d-88544ac63dc0"
      },
      "execution_count": 7,
      "outputs": [
        {
          "output_type": "execute_result",
          "data": {
            "text/plain": [
              "<Graph identifier=N6caa421ae062412fb3e9826f50b30577 (<class 'rdflib.graph.Graph'>)>"
            ]
          },
          "metadata": {},
          "execution_count": 7
        }
      ]
    },
    {
      "cell_type": "markdown",
      "source": [
        "Now, we can do some SPARQL queries like finding the birth place and birth date of Tim Berners Lee."
      ],
      "metadata": {
        "id": "cihyJevrEONb"
      }
    },
    {
      "cell_type": "code",
      "source": [
        "query_str = \"\"\"\n",
        "PREFIX : <http://example.org/>\n",
        "\n",
        "SELECT ?person ?name ?birthDate ?birthPlace ?country WHERE {\n",
        "  ?person a :Human ;\n",
        "    :name ?name ;\n",
        "    :birthDate ?birthDate ;\n",
        "    :birthPlace ?birthPlace .\n",
        "  ?birthPlace :country ?country\n",
        "}\n",
        "\"\"\";"
      ],
      "metadata": {
        "id": "HpuVeSxx6LEG"
      },
      "execution_count": 8,
      "outputs": []
    },
    {
      "cell_type": "markdown",
      "source": [
        "Run a SPARQL query"
      ],
      "metadata": {
        "id": "59tTu7pp6GeR"
      }
    },
    {
      "cell_type": "code",
      "source": [
        "result = g.query(query_str);"
      ],
      "metadata": {
        "id": "WLNGVQLM6Vpo"
      },
      "execution_count": 9,
      "outputs": []
    },
    {
      "cell_type": "code",
      "source": [
        "for row in result:\n",
        "    print(f\"Name: {row.name}, birth date: {row.birthDate}, birthPlace: {row.birthPlace}\")"
      ],
      "metadata": {
        "colab": {
          "base_uri": "https://localhost:8080/"
        },
        "id": "LV-vv0Vh6tZA",
        "outputId": "72b66469-18a4-4c76-d516-a18d81b12bd7"
      },
      "execution_count": 11,
      "outputs": [
        {
          "output_type": "stream",
          "name": "stdout",
          "text": [
            "Name: Tim Berners-Lee, birth date: 1955-06-08, birthPlace: http://example.org/london\n"
          ]
        }
      ]
    },
    {
      "cell_type": "markdown",
      "source": [
        "RDF is very flexible and so, it can contain errors. For example, the folling RDF data contains some errors, like humans without a name, with more than 2 names, with a name that is a number, or that know something that is not a human."
      ],
      "metadata": {
        "id": "boQM_BMKGKvV"
      }
    },
    {
      "cell_type": "code",
      "source": [
        "rdf_with_errors_str =\"\"\"\n",
        "prefix : <http://example.org/>\n",
        "prefix rdf: <http://www.w3.org/1999/02/22-rdf-syntax-ns#>\n",
        "prefix xsd: <http://www.w3.org/2001/XMLSchema#>\n",
        "\n",
        ":timbl a :Human ;\n",
        "       :name       \"Tim Berners-Lee\" ;\n",
        "       :birthPlace :london ;\n",
        "       :birthDate  \"1955-06-08\"^^xsd:date ;\n",
        "       :employer   :CERN ;\n",
        "       :knows     :jose .\n",
        "\n",
        ":london a :City, :Metropolis ;\n",
        "        :country :UK .\n",
        "\n",
        ":CERN a :Organization .\n",
        "\n",
        ":jose :name       \"Jose\" ;\n",
        "      :birthPlace :Oviedo .\n",
        "\n",
        ":Oviedo a :City ;\n",
        "        :country :Spain .\n",
        "\n",
        ":alice a :Human ;\n",
        "      :name 234 .\n",
        "\n",
        ":bob a :Human ;\n",
        "     :name \"John\" , \"Jane\" .\n",
        "\n",
        ":carol a :Human ;\n",
        "     :birthPlace :london .\n",
        "\n",
        ":dave a :Human ;\n",
        "     :name \"John\" ;\n",
        "     :knows :CERN .\n",
        "\"\"\";"
      ],
      "metadata": {
        "id": "Zg7w7sg8Gbtn"
      },
      "execution_count": 16,
      "outputs": []
    },
    {
      "cell_type": "code",
      "source": [
        "g = Graph()"
      ],
      "metadata": {
        "id": "SCE-V3bmGy7S"
      },
      "execution_count": 17,
      "outputs": []
    },
    {
      "cell_type": "code",
      "source": [
        "g.parse(data=rdf_with_errors_str, format=\"ttl\")"
      ],
      "metadata": {
        "colab": {
          "base_uri": "https://localhost:8080/"
        },
        "id": "F-REnbA3G2JU",
        "outputId": "f8d5f035-d9c5-426a-96a7-f42ab529e9e3"
      },
      "execution_count": 18,
      "outputs": [
        {
          "output_type": "execute_result",
          "data": {
            "text/plain": [
              "<Graph identifier=Nf67b302ff38941c48524bd8fa14755f7 (<class 'rdflib.graph.Graph'>)>"
            ]
          },
          "metadata": {},
          "execution_count": 18
        }
      ]
    },
    {
      "cell_type": "markdown",
      "source": [
        "As you can see, the RDF tools are quite permissive and don't complain about those errors following the principle that Any one can say Any thing about Any topic."
      ],
      "metadata": {
        "id": "qfKI6zKzG69l"
      }
    },
    {
      "cell_type": "markdown",
      "source": [
        "## Using SPARQL to validate"
      ],
      "metadata": {
        "id": "M8o1mWjsFRKb"
      }
    },
    {
      "cell_type": "markdown",
      "source": [
        "It is possible (but can be tedious) to validate the data using SPARQL. For example, the following query checks if there are nodes with a single value for name which isn't a string"
      ],
      "metadata": {
        "id": "cQsjdwppFWY3"
      }
    },
    {
      "cell_type": "code",
      "source": [
        "sparql_check_str = \"\"\"\n",
        "PREFIX : <http://example.org/>\n",
        "PREFIX xsd: <http://www.w3.org/2001/XMLSchema#>\n",
        "\n",
        "SELECT ?person WHERE {\n",
        "  ?person a :Human ;\n",
        "  {\n",
        "    SELECT ?person ?name WHERE {\n",
        "    ?person :name ?name .\n",
        "    FILTER (!isLiteral(?name) || datatype(?name) != xsd:string)\n",
        "    }\n",
        "  } UNION {\n",
        "    SELECT ?person (COUNT(?name) AS ?nameCount)\n",
        "    WHERE {\n",
        "        ?person a :Human .\n",
        "        OPTIONAL { ?person :name ?name . }\n",
        "    }\n",
        "    GROUP BY ?person\n",
        "    HAVING (COUNT(?name) != 1)\n",
        "  }\n",
        "}\n",
        "\"\"\";\n"
      ],
      "metadata": {
        "id": "4z5vMtzlFnK4"
      },
      "execution_count": 19,
      "outputs": []
    },
    {
      "cell_type": "code",
      "source": [
        "result = g.query(sparql_check_str);\n"
      ],
      "metadata": {
        "id": "gc_OkbN8GDyE"
      },
      "execution_count": 20,
      "outputs": []
    },
    {
      "cell_type": "code",
      "source": [
        "for row in result:\n",
        "    print(row)"
      ],
      "metadata": {
        "colab": {
          "base_uri": "https://localhost:8080/"
        },
        "id": "zDcQ5PmmGF2d",
        "outputId": "fbb4cceb-5fbc-44b2-9b8f-ecc6a016dc53"
      },
      "execution_count": 21,
      "outputs": [
        {
          "output_type": "stream",
          "name": "stdout",
          "text": [
            "(rdflib.term.URIRef('http://example.org/alice'),)\n",
            "(rdflib.term.URIRef('http://example.org/bob'),)\n",
            "(rdflib.term.URIRef('http://example.org/carol'),)\n"
          ]
        }
      ]
    },
    {
      "cell_type": "markdown",
      "source": [
        "As an exercise, you can try to define another SPARQL query that checks that a human only knows other humans."
      ],
      "metadata": {
        "id": "zicSaELlHRRy"
      }
    },
    {
      "cell_type": "markdown",
      "source": [
        "## Validating using ShEx"
      ],
      "metadata": {
        "id": "v953I57cHZzF"
      }
    },
    {
      "cell_type": "markdown",
      "source": [
        "[ShEx](https://shex.io/) has been designed as a concise and human readable language to describe and validate RDF data. The following ShEx specifies a shape for humans:"
      ],
      "metadata": {
        "id": "s9f4H21zHd5D"
      }
    },
    {
      "cell_type": "code",
      "source": [
        "person_schema = \"\"\"\n",
        "prefix : <http://example.org/>\n",
        "prefix rdf: <http://www.w3.org/1999/02/22-rdf-syntax-ns#>\n",
        "prefix xsd: <http://www.w3.org/2001/XMLSchema#>\n",
        "\n",
        ":Person {\n",
        " :name       xsd:string       ;\n",
        " :birthPlace @:Place        ? ;\n",
        " :birthDate  xsd:date       ? ;\n",
        " :employer   @:Organization * ;\n",
        " :knows      @:Person       *\n",
        "}\n",
        "\n",
        ":Place {\n",
        " :country . ?\n",
        "}\n",
        "\n",
        ":Organization {\n",
        "    a [ :Organization ]\n",
        "}\n",
        "\"\"\""
      ],
      "metadata": {
        "id": "2Oth9m1VHuMX"
      },
      "execution_count": 22,
      "outputs": []
    },
    {
      "cell_type": "markdown",
      "source": [],
      "metadata": {
        "id": "pAk4DfQKFVt2"
      }
    },
    {
      "cell_type": "code",
      "source": [
        "!pip install pyshex"
      ],
      "metadata": {
        "colab": {
          "base_uri": "https://localhost:8080/"
        },
        "id": "nW9TP4eKIKoD",
        "outputId": "7838fed9-5b14-4d5a-9a39-5fab2602b17d"
      },
      "execution_count": 23,
      "outputs": [
        {
          "output_type": "stream",
          "name": "stdout",
          "text": [
            "Collecting pyshex\n",
            "  Downloading PyShEx-0.8.1-py3-none-any.whl.metadata (1.0 kB)\n",
            "Collecting cfgraph>=0.2.1 (from pyshex)\n",
            "  Downloading CFGraph-0.2.1.tar.gz (2.6 kB)\n",
            "  Preparing metadata (setup.py) ... \u001b[?25l\u001b[?25hdone\n",
            "Requirement already satisfied: chardet in /usr/local/lib/python3.11/dist-packages (from pyshex) (5.2.0)\n",
            "Collecting pyshexc==0.9.1 (from pyshex)\n",
            "  Downloading PyShExC-0.9.1-py2.py3-none-any.whl.metadata (940 bytes)\n",
            "Collecting rdflib-shim (from pyshex)\n",
            "  Downloading rdflib_shim-1.0.3-py3-none-any.whl.metadata (918 bytes)\n",
            "Requirement already satisfied: requests>=2.22.0 in /usr/local/lib/python3.11/dist-packages (from pyshex) (2.32.3)\n",
            "Collecting shexjsg>=0.8.2 (from pyshex)\n",
            "  Downloading ShExJSG-0.8.2-py2.py3-none-any.whl.metadata (997 bytes)\n",
            "Collecting sparqlslurper>=0.5.1 (from pyshex)\n",
            "  Downloading sparqlslurper-0.5.1-py3-none-any.whl.metadata (430 bytes)\n",
            "Collecting sparqlwrapper>=1.8.5 (from pyshex)\n",
            "  Downloading SPARQLWrapper-2.0.0-py3-none-any.whl.metadata (2.0 kB)\n",
            "Requirement already satisfied: urllib3 in /usr/local/lib/python3.11/dist-packages (from pyshex) (2.4.0)\n",
            "Requirement already satisfied: antlr4-python3-runtime~=4.9.3 in /usr/local/lib/python3.11/dist-packages (from pyshexc==0.9.1->pyshex) (4.9.3)\n",
            "Collecting jsonasobj>=1.2.1 (from pyshexc==0.9.1->pyshex)\n",
            "  Downloading jsonasobj-1.3.1-py3-none-any.whl.metadata (995 bytes)\n",
            "Collecting pyjsg>=0.11.10 (from pyshexc==0.9.1->pyshex)\n",
            "  Downloading PyJSG-0.11.10-py3-none-any.whl.metadata (978 bytes)\n",
            "Requirement already satisfied: rdflib>=0.4.2 in /usr/local/lib/python3.11/dist-packages (from cfgraph>=0.2.1->pyshex) (7.1.4)\n",
            "Requirement already satisfied: charset-normalizer<4,>=2 in /usr/local/lib/python3.11/dist-packages (from requests>=2.22.0->pyshex) (3.4.2)\n",
            "Requirement already satisfied: idna<4,>=2.5 in /usr/local/lib/python3.11/dist-packages (from requests>=2.22.0->pyshex) (3.10)\n",
            "Requirement already satisfied: certifi>=2017.4.17 in /usr/local/lib/python3.11/dist-packages (from requests>=2.22.0->pyshex) (2025.4.26)\n",
            "Collecting rdflib-jsonld==0.6.1 (from rdflib-shim->pyshex)\n",
            "  Downloading rdflib_jsonld-0.6.1-py2.py3-none-any.whl.metadata (3.4 kB)\n",
            "Requirement already satisfied: pyparsing<4,>=2.1.0 in /usr/local/lib/python3.11/dist-packages (from rdflib>=0.4.2->cfgraph>=0.2.1->pyshex) (3.2.3)\n",
            "Downloading PyShEx-0.8.1-py3-none-any.whl (51 kB)\n",
            "\u001b[2K   \u001b[90m━━━━━━━━━━━━━━━━━━━━━━━━━━━━━━━━━━━━━━━━\u001b[0m \u001b[32m51.9/51.9 kB\u001b[0m \u001b[31m4.5 MB/s\u001b[0m eta \u001b[36m0:00:00\u001b[0m\n",
            "\u001b[?25hDownloading PyShExC-0.9.1-py2.py3-none-any.whl (69 kB)\n",
            "\u001b[2K   \u001b[90m━━━━━━━━━━━━━━━━━━━━━━━━━━━━━━━━━━━━━━━━\u001b[0m \u001b[32m69.8/69.8 kB\u001b[0m \u001b[31m6.7 MB/s\u001b[0m eta \u001b[36m0:00:00\u001b[0m\n",
            "\u001b[?25hDownloading ShExJSG-0.8.2-py2.py3-none-any.whl (14 kB)\n",
            "Downloading sparqlslurper-0.5.1-py3-none-any.whl (6.6 kB)\n",
            "Downloading SPARQLWrapper-2.0.0-py3-none-any.whl (28 kB)\n",
            "Downloading rdflib_shim-1.0.3-py3-none-any.whl (5.2 kB)\n",
            "Downloading rdflib_jsonld-0.6.1-py2.py3-none-any.whl (16 kB)\n",
            "Downloading jsonasobj-1.3.1-py3-none-any.whl (4.4 kB)\n",
            "Downloading PyJSG-0.11.10-py3-none-any.whl (80 kB)\n",
            "\u001b[2K   \u001b[90m━━━━━━━━━━━━━━━━━━━━━━━━━━━━━━━━━━━━━━━━\u001b[0m \u001b[32m80.8/80.8 kB\u001b[0m \u001b[31m8.1 MB/s\u001b[0m eta \u001b[36m0:00:00\u001b[0m\n",
            "\u001b[?25hBuilding wheels for collected packages: cfgraph\n",
            "  Building wheel for cfgraph (setup.py) ... \u001b[?25l\u001b[?25hdone\n",
            "  Created wheel for cfgraph: filename=CFGraph-0.2.1-py3-none-any.whl size=2214 sha256=08f746196eb3ac94640439e1c690d4df0614b8f8ff92bae1cf335cb59e69f0a4\n",
            "  Stored in directory: /root/.cache/pip/wheels/8b/ac/8f/0f5b041561f10e6db39796e4ad11011b8f5a4b0a0ed74a5e61\n",
            "Successfully built cfgraph\n",
            "Installing collected packages: jsonasobj, pyjsg, sparqlwrapper, shexjsg, rdflib-jsonld, cfgraph, rdflib-shim, sparqlslurper, pyshexc, pyshex\n",
            "Successfully installed cfgraph-0.2.1 jsonasobj-1.3.1 pyjsg-0.11.10 pyshex-0.8.1 pyshexc-0.9.1 rdflib-jsonld-0.6.1 rdflib-shim-1.0.3 shexjsg-0.8.2 sparqlslurper-0.5.1 sparqlwrapper-2.0.0\n"
          ]
        }
      ]
    },
    {
      "cell_type": "code",
      "source": [
        "from pyshex import ShExEvaluator"
      ],
      "metadata": {
        "id": "A5qvLQx1IQ_e"
      },
      "execution_count": 24,
      "outputs": []
    },
    {
      "cell_type": "code",
      "source": [
        "ex = Namespace(\"http://example.org/\")"
      ],
      "metadata": {
        "id": "04qW7q9jIUXE"
      },
      "execution_count": 26,
      "outputs": []
    },
    {
      "cell_type": "code",
      "source": [
        "nodes = [ ex.timbl, ex.alice, ex.bob, ex.carol, ex.dave ]"
      ],
      "metadata": {
        "id": "0U0AKgYyIhpa"
      },
      "execution_count": 28,
      "outputs": []
    },
    {
      "cell_type": "code",
      "source": [],
      "metadata": {
        "id": "BHCqXqviJX9Y"
      },
      "execution_count": null,
      "outputs": []
    },
    {
      "cell_type": "code",
      "source": [
        "for node in nodes:\n",
        "  rs = ShExEvaluator().evaluate(g, person_schema, focus=node, start=ex.Person)\n",
        "  for r in rs:\n",
        "    if r.result:\n",
        "      print(f\"Node {node} Passed as Person\")\n",
        "    else:\n",
        "      print(f\"Node {node} Failed as Person: {r.reason}\")"
      ],
      "metadata": {
        "colab": {
          "base_uri": "https://localhost:8080/"
        },
        "id": "WX5_00buI90P",
        "outputId": "d3700e4e-7f3d-41b9-b2bc-83f887f6fc28"
      },
      "execution_count": 30,
      "outputs": [
        {
          "output_type": "stream",
          "name": "stdout",
          "text": [
            "Node http://example.org/timbl Passed as Person\n",
            "Node http://example.org/alice Failed as Person:   Testing :alice against shape http://example.org/Person\n",
            "    Datatype mismatch - expected: http://www.w3.org/2001/XMLSchema#string actual: http://www.w3.org/2001/XMLSchema#integer\n",
            "Node http://example.org/bob Failed as Person:   Testing :bob against shape http://example.org/Person\n",
            "    Triples:\n",
            "      :bob :name \"Jane\" .\n",
            "      :bob :name \"John\" .\n",
            "   2 triples exceeds max {1,1}\n",
            "Node http://example.org/carol Failed as Person:   Testing :carol against shape http://example.org/Person\n",
            "       No matching triples found for predicate :name\n",
            "Node http://example.org/dave Failed as Person:   Testing :dave against shape http://example.org/Person\n",
            "    Testing :CERN against shape http://example.org/Person\n",
            "         No matching triples found for predicate :name\n"
          ]
        }
      ]
    },
    {
      "cell_type": "markdown",
      "source": [
        "## Validating with SHACL"
      ],
      "metadata": {
        "id": "11Qz5VBR7VLl"
      }
    },
    {
      "cell_type": "code",
      "source": [
        "shacl_shapes_str = \"\"\"\n",
        "prefix :       <http://example.org/>\n",
        "prefix sh:     <http://www.w3.org/ns/shacl#>\n",
        "prefix xsd:    <http://www.w3.org/2001/XMLSchema#>\n",
        "prefix schema: <http://schema.org/>\n",
        "\n",
        ":PersonShape a sh:NodeShape ;\n",
        "   sh:targetClass :Human ;\n",
        "   sh:property [\n",
        "    sh:path      :name ;\n",
        "    sh:minCount 1; sh:maxCount 1;\n",
        "    sh:datatype xsd:string ;\n",
        "  ] ;\n",
        "  sh:property [\n",
        "    sh:path :birthPlace ;\n",
        "    sh:node :PlaceShape\n",
        "  ] ;\n",
        "  sh:property [\n",
        "   sh:path     :birthDate ;\n",
        "   sh:maxCount 1;\n",
        "   sh:datatype xsd:date;\n",
        "  ] ;\n",
        "  sh:property [\n",
        "    sh:path :employer ;\n",
        "    sh:node :OrganizationShape\n",
        "  ] ;\n",
        "  sh:property [\n",
        "    sh:path :knows ;\n",
        "    sh:node :PersonShape\n",
        "  ] .\n",
        "\n",
        ":PlaceShape a sh:NodeShape ;\n",
        "  sh:property [\n",
        "    sh:path :country ;\n",
        "    sh:nodeKind sh:IRI ;\n",
        "    sh:minCount 1 ;\n",
        "    sh:maxCount 1 ;\n",
        "  ] .\n",
        "\n",
        ":OrganizationShape a sh:NodeShape .\n",
        "\"\"\""
      ],
      "metadata": {
        "id": "ymHCaULv9Sdf"
      },
      "execution_count": 31,
      "outputs": []
    },
    {
      "cell_type": "code",
      "source": [
        "!pip install pyshacl"
      ],
      "metadata": {
        "colab": {
          "base_uri": "https://localhost:8080/"
        },
        "id": "JJFSgigfKa43",
        "outputId": "96f6321e-63ff-4487-f2f0-54720d7f0f30"
      },
      "execution_count": 32,
      "outputs": [
        {
          "output_type": "stream",
          "name": "stdout",
          "text": [
            "Collecting pyshacl\n",
            "  Downloading pyshacl-0.30.1-py3-none-any.whl.metadata (35 kB)\n",
            "Requirement already satisfied: importlib-metadata>6 in /usr/local/lib/python3.11/dist-packages (from pyshacl) (8.7.0)\n",
            "Collecting owlrl<8,>=7.1.2 (from pyshacl)\n",
            "  Downloading owlrl-7.1.3-py3-none-any.whl.metadata (3.6 kB)\n",
            "Requirement already satisfied: packaging>=21.3 in /usr/local/lib/python3.11/dist-packages (from pyshacl) (24.2)\n",
            "Requirement already satisfied: prettytable>=3.5.0 in /usr/local/lib/python3.11/dist-packages (from pyshacl) (3.16.0)\n",
            "Requirement already satisfied: rdflib!=7.1.2,<8.0,>=7.1.1 in /usr/local/lib/python3.11/dist-packages (from rdflib[html]!=7.1.2,<8.0,>=7.1.1->pyshacl) (7.1.4)\n",
            "Requirement already satisfied: zipp>=3.20 in /usr/local/lib/python3.11/dist-packages (from importlib-metadata>6->pyshacl) (3.22.0)\n",
            "Requirement already satisfied: wcwidth in /usr/local/lib/python3.11/dist-packages (from prettytable>=3.5.0->pyshacl) (0.2.13)\n",
            "Requirement already satisfied: pyparsing<4,>=2.1.0 in /usr/local/lib/python3.11/dist-packages (from rdflib!=7.1.2,<8.0,>=7.1.1->rdflib[html]!=7.1.2,<8.0,>=7.1.1->pyshacl) (3.2.3)\n",
            "Collecting html5rdf<2,>=1.2 (from rdflib[html]!=7.1.2,<8.0,>=7.1.1->pyshacl)\n",
            "  Downloading html5rdf-1.2.1-py2.py3-none-any.whl.metadata (7.5 kB)\n",
            "Downloading pyshacl-0.30.1-py3-none-any.whl (1.3 MB)\n",
            "\u001b[2K   \u001b[90m━━━━━━━━━━━━━━━━━━━━━━━━━━━━━━━━━━━━━━━━\u001b[0m \u001b[32m1.3/1.3 MB\u001b[0m \u001b[31m44.5 MB/s\u001b[0m eta \u001b[36m0:00:00\u001b[0m\n",
            "\u001b[?25hDownloading owlrl-7.1.3-py3-none-any.whl (51 kB)\n",
            "\u001b[2K   \u001b[90m━━━━━━━━━━━━━━━━━━━━━━━━━━━━━━━━━━━━━━━━\u001b[0m \u001b[32m51.9/51.9 kB\u001b[0m \u001b[31m4.4 MB/s\u001b[0m eta \u001b[36m0:00:00\u001b[0m\n",
            "\u001b[?25hDownloading html5rdf-1.2.1-py2.py3-none-any.whl (109 kB)\n",
            "\u001b[2K   \u001b[90m━━━━━━━━━━━━━━━━━━━━━━━━━━━━━━━━━━━━━━━━\u001b[0m \u001b[32m109.8/109.8 kB\u001b[0m \u001b[31m9.4 MB/s\u001b[0m eta \u001b[36m0:00:00\u001b[0m\n",
            "\u001b[?25hInstalling collected packages: html5rdf, owlrl, pyshacl\n",
            "Successfully installed html5rdf-1.2.1 owlrl-7.1.3 pyshacl-0.30.1\n"
          ]
        }
      ]
    },
    {
      "cell_type": "code",
      "source": [
        "from pyshacl import validate"
      ],
      "metadata": {
        "id": "t3vX3nN_KpRS"
      },
      "execution_count": 33,
      "outputs": []
    },
    {
      "cell_type": "code",
      "source": [
        "shapes = Graph()"
      ],
      "metadata": {
        "id": "iJV_MTR0Kqjk"
      },
      "execution_count": 34,
      "outputs": []
    },
    {
      "cell_type": "code",
      "source": [
        "shapes.parse(data=shacl_shapes_str, format=\"ttl\")"
      ],
      "metadata": {
        "colab": {
          "base_uri": "https://localhost:8080/"
        },
        "id": "EsPtZSK4Kw1y",
        "outputId": "7f78dcce-7899-4460-d708-fea5ea178fbe"
      },
      "execution_count": 35,
      "outputs": [
        {
          "output_type": "execute_result",
          "data": {
            "text/plain": [
              "<Graph identifier=N43a1d79d203240bf925beb2a453bba3c (<class 'rdflib.graph.Graph'>)>"
            ]
          },
          "metadata": {},
          "execution_count": 35
        }
      ]
    },
    {
      "cell_type": "code",
      "source": [
        "r = validate(g, shacl_graph = shapes)"
      ],
      "metadata": {
        "id": "2LgBXG81K2Fm"
      },
      "execution_count": 37,
      "outputs": []
    },
    {
      "cell_type": "code",
      "source": [
        "conforms, results_graph, results_text = r\n",
        "print(f\"Conforms: {conforms}\")\n",
        "print(results_graph.serialize(format=\"turtle\"))"
      ],
      "metadata": {
        "colab": {
          "base_uri": "https://localhost:8080/"
        },
        "id": "XhjWbeRyK6iJ",
        "outputId": "cb61d002-b9d3-414d-a65b-4c417bf59631"
      },
      "execution_count": 38,
      "outputs": [
        {
          "output_type": "stream",
          "name": "stdout",
          "text": [
            "Conforms: False\n",
            "@prefix : <http://example.org/> .\n",
            "@prefix sh: <http://www.w3.org/ns/shacl#> .\n",
            "@prefix xsd: <http://www.w3.org/2001/XMLSchema#> .\n",
            "\n",
            "[] a sh:ValidationReport ;\n",
            "    sh:conforms false ;\n",
            "    sh:result [ a sh:ValidationResult ;\n",
            "            sh:focusNode :bob ;\n",
            "            sh:resultMessage \"More than 1 values on :bob->:name\" ;\n",
            "            sh:resultPath :name ;\n",
            "            sh:resultSeverity sh:Violation ;\n",
            "            sh:sourceConstraintComponent sh:MaxCountConstraintComponent ;\n",
            "            sh:sourceShape _:n46a9a97b32fc413a92a6bb02cd0f0d03b1 ],\n",
            "        [ a sh:ValidationResult ;\n",
            "            sh:detail [ a sh:ValidationResult ;\n",
            "                    sh:focusNode :CERN ;\n",
            "                    sh:resultMessage \"Less than 1 values on :CERN->:name\" ;\n",
            "                    sh:resultPath :name ;\n",
            "                    sh:resultSeverity sh:Violation ;\n",
            "                    sh:sourceConstraintComponent sh:MinCountConstraintComponent ;\n",
            "                    sh:sourceShape _:n46a9a97b32fc413a92a6bb02cd0f0d03b1 ] ;\n",
            "            sh:focusNode :dave ;\n",
            "            sh:resultMessage \"Value does not conform to Shape :PersonShape. See details for more information.\" ;\n",
            "            sh:resultPath :knows ;\n",
            "            sh:resultSeverity sh:Violation ;\n",
            "            sh:sourceConstraintComponent sh:NodeConstraintComponent ;\n",
            "            sh:sourceShape [ sh:node :PersonShape ;\n",
            "                    sh:path :knows ] ;\n",
            "            sh:value :CERN ],\n",
            "        [ a sh:ValidationResult ;\n",
            "            sh:focusNode :carol ;\n",
            "            sh:resultMessage \"Less than 1 values on :carol->:name\" ;\n",
            "            sh:resultPath :name ;\n",
            "            sh:resultSeverity sh:Violation ;\n",
            "            sh:sourceConstraintComponent sh:MinCountConstraintComponent ;\n",
            "            sh:sourceShape _:n46a9a97b32fc413a92a6bb02cd0f0d03b1 ],\n",
            "        [ a sh:ValidationResult ;\n",
            "            sh:focusNode :alice ;\n",
            "            sh:resultMessage \"Value is not Literal with datatype xsd:string\" ;\n",
            "            sh:resultPath :name ;\n",
            "            sh:resultSeverity sh:Violation ;\n",
            "            sh:sourceConstraintComponent sh:DatatypeConstraintComponent ;\n",
            "            sh:sourceShape _:n46a9a97b32fc413a92a6bb02cd0f0d03b1 ;\n",
            "            sh:value 234 ] .\n",
            "\n",
            "_:n46a9a97b32fc413a92a6bb02cd0f0d03b1 sh:datatype xsd:string ;\n",
            "    sh:maxCount 1 ;\n",
            "    sh:minCount 1 ;\n",
            "    sh:path :name .\n",
            "\n",
            "\n"
          ]
        }
      ]
    }
  ]
}