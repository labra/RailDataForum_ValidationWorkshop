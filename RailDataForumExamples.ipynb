{
  "nbformat": 4,
  "nbformat_minor": 0,
  "metadata": {
    "colab": {
      "provenance": [],
      "authorship_tag": "ABX9TyOBwzk7EcTvf6MxCFrJJIOu",
      "include_colab_link": true
    },
    "kernelspec": {
      "name": "python3",
      "display_name": "Python 3"
    },
    "language_info": {
      "name": "python"
    }
  },
  "cells": [
    {
      "cell_type": "markdown",
      "metadata": {
        "id": "view-in-github",
        "colab_type": "text"
      },
      "source": [
        "<a href=\"https://colab.research.google.com/github/labra/RailDataForum_ValidationWorkshop/blob/main/RailDataForumExamples.ipynb\" target=\"_parent\"><img src=\"https://colab.research.google.com/assets/colab-badge.svg\" alt=\"Open In Colab\"/></a>"
      ]
    },
    {
      "cell_type": "markdown",
      "source": [
        "# Rail data forum - Validation workshop examples"
      ],
      "metadata": {
        "id": "JTryadl119UT"
      }
    },
    {
      "cell_type": "code",
      "execution_count": null,
      "metadata": {
        "colab": {
          "base_uri": "https://localhost:8080/"
        },
        "id": "YfOzi36a1rKq",
        "outputId": "6b391fed-0b62-4c33-9af4-7365f9259a60"
      },
      "outputs": [
        {
          "output_type": "stream",
          "name": "stdout",
          "text": [
            "Collecting rdflib\n",
            "  Downloading rdflib-7.1.4-py3-none-any.whl.metadata (11 kB)\n",
            "Requirement already satisfied: pyparsing<4,>=2.1.0 in /usr/local/lib/python3.11/dist-packages (from rdflib) (3.2.3)\n",
            "Downloading rdflib-7.1.4-py3-none-any.whl (565 kB)\n",
            "\u001b[?25l   \u001b[90m━━━━━━━━━━━━━━━━━━━━━━━━━━━━━━━━━━━━━━━━\u001b[0m \u001b[32m0.0/565.1 kB\u001b[0m \u001b[31m?\u001b[0m eta \u001b[36m-:--:--\u001b[0m\r\u001b[2K   \u001b[91m━━━━━━━━━━\u001b[0m\u001b[91m╸\u001b[0m\u001b[90m━━━━━━━━━━━━━━━━━━━━━━━━━━━━━\u001b[0m \u001b[32m153.6/565.1 kB\u001b[0m \u001b[31m4.4 MB/s\u001b[0m eta \u001b[36m0:00:01\u001b[0m\r\u001b[2K   \u001b[91m━━━━━━━━━━━━━━━━━━━━━━━━━━━━━━━━━━━━━━━\u001b[0m\u001b[91m╸\u001b[0m \u001b[32m563.2/565.1 kB\u001b[0m \u001b[31m11.0 MB/s\u001b[0m eta \u001b[36m0:00:01\u001b[0m\r\u001b[2K   \u001b[90m━━━━━━━━━━━━━━━━━━━━━━━━━━━━━━━━━━━━━━━━\u001b[0m \u001b[32m565.1/565.1 kB\u001b[0m \u001b[31m7.7 MB/s\u001b[0m eta \u001b[36m0:00:00\u001b[0m\n",
            "\u001b[?25hInstalling collected packages: rdflib\n",
            "Successfully installed rdflib-7.1.4\n"
          ]
        }
      ],
      "source": [
        "!pip install rdflib"
      ]
    },
    {
      "cell_type": "code",
      "source": [
        "from rdflib import Graph"
      ],
      "metadata": {
        "id": "j-gfo8OV41Z5"
      },
      "execution_count": 2,
      "outputs": []
    },
    {
      "cell_type": "code",
      "source": [
        "g = Graph()"
      ],
      "metadata": {
        "id": "FWCigL0F45jI"
      },
      "execution_count": 3,
      "outputs": []
    },
    {
      "cell_type": "code",
      "source": [
        "person_ttl_str = \"\"\"\n",
        "prefix : <http://example.org/>\n",
        "prefix rdf: <http://www.w3.org/1999/02/22-rdf-syntax-ns#>\n",
        "prefix xsd: <http://www.w3.org/2001/XMLSchema#>\n",
        "\n",
        ":timbl a :Human ;\n",
        "       :name       \"Tim Berners-Lee\" ;\n",
        "       :birthPlace :london ;\n",
        "       :birthDate  \"1955-06-08\"^^xsd:date ;\n",
        "       :employer   :CERN ;\n",
        "       :knows     :jose .\n",
        "\n",
        ":london a :City, :Metropolis ;\n",
        "        :country :UK .\n",
        "\n",
        ":CERN a :Organization ;\n",
        "      :name \"CERN\"    .\n",
        "\n",
        ":jose :name       \"Jose\" ;\n",
        "      :birthPlace :Oviedo .\n",
        "\n",
        ":Oviedo a :City ;\n",
        "        :country :Spain .\n",
        "\"\"\";"
      ],
      "metadata": {
        "id": "1f6NXNv25ApH"
      },
      "execution_count": 4,
      "outputs": []
    },
    {
      "cell_type": "code",
      "source": [
        "g.parse(data=person_ttl_str, format=\"ttl\")"
      ],
      "metadata": {
        "colab": {
          "base_uri": "https://localhost:8080/"
        },
        "id": "viD9Wrii6Gzm",
        "outputId": "8a229720-e0c9-40a5-8efd-37d438f4214e"
      },
      "execution_count": 5,
      "outputs": [
        {
          "output_type": "execute_result",
          "data": {
            "text/plain": [
              "<Graph identifier=N0ed6d325b13c4bd7ae6f65758d21142e (<class 'rdflib.graph.Graph'>)>"
            ]
          },
          "metadata": {},
          "execution_count": 5
        }
      ]
    },
    {
      "cell_type": "code",
      "source": [
        "query_str = \"\"\"\n",
        "PREFIX : <http://example.org/>\n",
        "\n",
        "SELECT ?person ?name ?country WHERE {\n",
        "  ?person a :Human ;\n",
        "    :name ?name ;\n",
        "    :birthDate ?birthDate ;\n",
        "    :birthPlace ?birthPlace .\n",
        "  ?birthPlace :country ?country\n",
        "}\n",
        "\"\"\";"
      ],
      "metadata": {
        "id": "HpuVeSxx6LEG"
      },
      "execution_count": 6,
      "outputs": []
    },
    {
      "cell_type": "markdown",
      "source": [
        "Run a SPARQL query"
      ],
      "metadata": {
        "id": "59tTu7pp6GeR"
      }
    },
    {
      "cell_type": "code",
      "source": [
        "result = g.query(query_str);"
      ],
      "metadata": {
        "id": "WLNGVQLM6Vpo"
      },
      "execution_count": 9,
      "outputs": []
    },
    {
      "cell_type": "code",
      "source": [
        "for row in result:\n",
        "    print(row)"
      ],
      "metadata": {
        "colab": {
          "base_uri": "https://localhost:8080/"
        },
        "id": "LV-vv0Vh6tZA",
        "outputId": "615eada0-35b8-4425-bbaf-ba8f66bbb05d"
      },
      "execution_count": 10,
      "outputs": [
        {
          "output_type": "stream",
          "name": "stdout",
          "text": [
            "(rdflib.term.URIRef('http://example.org/timbl'), rdflib.term.Literal('Tim Berners-Lee'), rdflib.term.URIRef('http://example.org/UK'))\n"
          ]
        }
      ]
    },
    {
      "cell_type": "markdown",
      "source": [
        "## Validating with SHACL"
      ],
      "metadata": {
        "id": "11Qz5VBR7VLl"
      }
    },
    {
      "cell_type": "code",
      "source": [],
      "metadata": {
        "id": "JzqcPLjo7S69"
      },
      "execution_count": null,
      "outputs": []
    }
  ]
}